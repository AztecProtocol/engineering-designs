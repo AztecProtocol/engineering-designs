{
 "cells": [
  {
   "cell_type": "code",
   "execution_count": 1,
   "metadata": {},
   "outputs": [],
   "source": [
    "from scipy.stats import hypergeom"
   ]
  },
  {
   "cell_type": "code",
   "execution_count": 2,
   "metadata": {},
   "outputs": [],
   "source": [
    "def calculate_probability(V, C):\n",
    "    \"\"\"\n",
    "    Calculate the probability of drawing more than 2/3 malicious validators\n",
    "    in a committee of size C from a total validator set of size V.\n",
    "\n",
    "    :param V: Total number of validators\n",
    "    :param C: Committee size\n",
    "    :return: Probability\n",
    "    \"\"\"\n",
    "    malicious = V // 3  # Number of malicious validators (1/3 of total)\n",
    "    threshold = int(2 * C // 3)  # Threshold for malicious majority\n",
    "\n",
    "    # Calculate the probability of having more than threshold malicious validators\n",
    "    prob = 1 - hypergeom.cdf(threshold, V, malicious, C)\n",
    "\n",
    "    return prob\n",
    "\n"
   ]
  },
  {
   "cell_type": "code",
   "execution_count": 3,
   "metadata": {},
   "outputs": [],
   "source": [
    "def calculate_first_p_malicious(V, C, P):\n",
    "    \"\"\"\n",
    "    Calculate the probability that the first P validators in a randomly ordered\n",
    "    committee of size C (drawn from a total set of V validators) are all malicious.\n",
    "\n",
    "    :param V: Total number of validators\n",
    "    :param C: Committee size\n",
    "    :param P: Number of first validators to check\n",
    "    :return: Probability\n",
    "    \"\"\"\n",
    "    malicious = V // 3  # Number of malicious validators (1/3 of total)\n",
    "\n",
    "    # Probability of exactly k malicious validators in the committee\n",
    "    prob_k_malicious = lambda k: hypergeom.pmf(k, V, malicious, C)\n",
    "\n",
    "    total_prob = 0\n",
    "    for k in range(P, C + 1):  # k cannot be less than P\n",
    "        prob_committee = prob_k_malicious(k)\n",
    "        prob_first_p_malicious = 1\n",
    "        for i in range(P):\n",
    "            prob_first_p_malicious *= (k - i) / (C - i)\n",
    "        total_prob += prob_committee * prob_first_p_malicious\n",
    "\n",
    "    return total_prob"
   ]
  },
  {
   "cell_type": "code",
   "execution_count": 4,
   "metadata": {},
   "outputs": [],
   "source": [
    "def find_smallest_C(V, threshold=1e-6):\n",
    "    \"\"\"\n",
    "    Find the smallest C such that the probability of more than 2/3 of the\n",
    "    committee being malicious is less than the threshold.\n",
    "\n",
    "    :param V: Total number of validators\n",
    "    :param threshold: Probability threshold\n",
    "    :return: Smallest C meeting the criteria\n",
    "    \"\"\"\n",
    "    C = 1\n",
    "    while calculate_probability(V, C) >= threshold:\n",
    "        C += 1\n",
    "    return C\n",
    "\n",
    "\n",
    "def find_smallest_P(V, C, threshold=1e-6):\n",
    "    \"\"\"\n",
    "    Find the smallest P such that the probability of the first P validators\n",
    "    in a row being malicious is less than the threshold.\n",
    "\n",
    "    :param V: Total number of validators\n",
    "    :param C: Committee size\n",
    "    :param threshold: Probability threshold\n",
    "    :return: Smallest P meeting the criteria\n",
    "    \"\"\"\n",
    "    P = 1\n",
    "    while calculate_first_p_malicious(V, C, P) >= threshold:\n",
    "        P += 1\n",
    "    return P"
   ]
  },
  {
   "cell_type": "code",
   "execution_count": 5,
   "metadata": {},
   "outputs": [
    {
     "name": "stdout",
     "output_type": "stream",
     "text": [
      "For V = 10000:\n",
      "Smallest C: 48\n",
      "Probability of malicious majority for C = 48: 5.35e-07\n",
      "Smallest P for C = 48: 13\n",
      "Probability of first 13 being malicious: 6.17e-07\n"
     ]
    }
   ],
   "source": [
    "# Example usage\n",
    "V = 10000  # Total number of validators\n",
    "threshold = 1e-6\n",
    "\n",
    "smallest_C = find_smallest_C(V, threshold)\n",
    "smallest_P = find_smallest_P(V, smallest_C, threshold)\n",
    "\n",
    "print(f\"For V = {V}:\")\n",
    "print(f\"Smallest C: {smallest_C}\")\n",
    "print(\n",
    "    f\"Probability of malicious majority for C = {smallest_C}: {calculate_probability(V, smallest_C):.2e}\"\n",
    ")\n",
    "print(f\"Smallest P for C = {smallest_C}: {smallest_P}\")\n",
    "print(\n",
    "    f\"Probability of first {smallest_P} being malicious: {calculate_first_p_malicious(V, smallest_C, smallest_P):.2e}\"\n",
    ")"
   ]
  }
 ],
 "metadata": {
  "kernelspec": {
   "display_name": ".venv",
   "language": "python",
   "name": "python3"
  },
  "language_info": {
   "codemirror_mode": {
    "name": "ipython",
    "version": 3
   },
   "file_extension": ".py",
   "mimetype": "text/x-python",
   "name": "python",
   "nbconvert_exporter": "python",
   "pygments_lexer": "ipython3",
   "version": "3.11.8"
  }
 },
 "nbformat": 4,
 "nbformat_minor": 2
}
